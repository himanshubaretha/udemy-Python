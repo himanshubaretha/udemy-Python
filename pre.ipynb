{
 "cells": [
  {
   "cell_type": "code",
   "execution_count": 1,
   "metadata": {},
   "outputs": [
    {
     "name": "stdout",
     "output_type": "stream",
     "text": [
      "its avail\n",
      "its avail\n"
     ]
    }
   ],
   "source": [
    "arr=[2,6,9,5,2]\n",
    "for i in arr:\n",
    "    if i == 2:\n",
    "        print(\"its avail\")"
   ]
  },
  {
   "cell_type": "code",
   "execution_count": 2,
   "metadata": {},
   "outputs": [],
   "source": [
    "import array as arr\n",
    "a = arr.array('i', [1, 2, 3])\n",
    "for i in a:\n",
    "    if i==6:\n",
    "        print(1)\n",
    "    "
   ]
  },
  {
   "cell_type": "code",
   "execution_count": 3,
   "metadata": {},
   "outputs": [
    {
     "data": {
      "text/plain": [
       "<zip at 0x2274bd2fc80>"
      ]
     },
     "execution_count": 3,
     "metadata": {},
     "output_type": "execute_result"
    }
   ],
   "source": [
    "list = [2,5,6,5,5,6,5,6,5]\n",
    "zip(list)"
   ]
  },
  {
   "cell_type": "code",
   "execution_count": 4,
   "metadata": {},
   "outputs": [
    {
     "name": "stdout",
     "output_type": "stream",
     "text": [
      "0 FizzBuzz\n",
      "15 FizzBuzz\n",
      "30 FizzBuzz\n",
      "45 FizzBuzz\n",
      "60 FizzBuzz\n",
      "75 FizzBuzz\n",
      "90 FizzBuzz\n"
     ]
    }
   ],
   "source": [
    "a = 100\n",
    "q,w=\"Fizz\",\"Buzz\"\n",
    "for i in range(a):\n",
    "    if i%3==0 and i%5==0 :\n",
    "        print(i,q+w)\n",
    "    "
   ]
  },
  {
   "cell_type": "code",
   "execution_count": 5,
   "metadata": {},
   "outputs": [
    {
     "data": {
      "text/plain": [
       "'Welcome hii'"
      ]
     },
     "execution_count": 5,
     "metadata": {},
     "output_type": "execute_result"
    }
   ],
   "source": [
    "def hello(name):\n",
    "    return f\"Welcome {name}\"\n",
    "hello(\"hii\")"
   ]
  },
  {
   "cell_type": "code",
   "execution_count": 6,
   "metadata": {},
   "outputs": [
    {
     "data": {
      "text/plain": [
       "[2, 4, 6]"
      ]
     },
     "execution_count": 6,
     "metadata": {},
     "output_type": "execute_result"
    }
   ],
   "source": [
    "def myfunc(*n):\n",
    "    i=[]\n",
    "    for j in n:\n",
    "        if (j%2==0):\n",
    "            i.append(j)\n",
    "    return i\n",
    "myfunc(2,3,4,5,6)"
   ]
  },
  {
   "cell_type": "markdown",
   "metadata": {},
   "source": [
    "Define a function called myfunc that takes in a string, and returns a matching string where every even letter is uppercase, and every odd letter is lowercase. Assume that the incoming string only contains letters, and don't worry about numbers, spaces or punctuation. The output string can start with either an uppercase or lowercase letter, so long as letters alternate throughout the string.\n",
    "\n",
    "Remember, don't run the function, simply provide the definition.\n",
    "\n",
    "To give an idea what the function would look like when tested:\n",
    "\n",
    "myfunc('Anthropomorphism')\n",
    "\n",
    "# Output: 'aNtHrOpOmOrPhIsM'\n",
    "Added note: this exercise requires that the function return a string. Print statements will not work here.\n"
   ]
  },
  {
   "cell_type": "code",
   "execution_count": 7,
   "metadata": {},
   "outputs": [
    {
     "data": {
      "text/plain": [
       "'aNtHrOpOmOrPhIsM'"
      ]
     },
     "execution_count": 7,
     "metadata": {},
     "output_type": "execute_result"
    }
   ],
   "source": [
    "import random as rd\n",
    "def my_func(s):\n",
    "    k = []\n",
    "    for i,j in enumerate(s):\n",
    "        if i%2==0:\n",
    "            k.append(j.lower())\n",
    "        else:\n",
    "            k.append(j.upper())\n",
    "    return ''.join(k)\n",
    "my_func('Anthropomorphism')"
   ]
  },
  {
   "cell_type": "code",
   "execution_count": 8,
   "metadata": {},
   "outputs": [
    {
     "data": {
      "text/plain": [
       "'MacDonal'"
      ]
     },
     "execution_count": 8,
     "metadata": {},
     "output_type": "execute_result"
    }
   ],
   "source": [
    "def my(a):\n",
    "    s = []\n",
    "    for i,j in enumerate(a):\n",
    "        if i==0 or i ==3 :\n",
    "            s.append(j.upper())\n",
    "        else:\n",
    "            s.append(j.lower())\n",
    "    return ''.join(s)\n",
    "my('macdonal')\n"
   ]
  },
  {
   "cell_type": "code",
   "execution_count": 9,
   "metadata": {},
   "outputs": [],
   "source": [
    "# Volume of Sphere\n",
    "def Vol(rad,pie = 3.14):\n",
    "    return (4/3)*pie*rad**3"
   ]
  },
  {
   "cell_type": "code",
   "execution_count": 10,
   "metadata": {},
   "outputs": [
    {
     "data": {
      "text/plain": [
       "33.49333333333333"
      ]
     },
     "execution_count": 10,
     "metadata": {},
     "output_type": "execute_result"
    }
   ],
   "source": [
    "Vol(2)"
   ]
  },
  {
   "cell_type": "code",
   "execution_count": 11,
   "metadata": {},
   "outputs": [],
   "source": [
    "def range_cheaker(n,low,high):\n",
    "    return high >=n>=low"
   ]
  },
  {
   "cell_type": "code",
   "execution_count": 12,
   "metadata": {},
   "outputs": [
    {
     "data": {
      "text/plain": [
       "False"
      ]
     },
     "execution_count": 12,
     "metadata": {},
     "output_type": "execute_result"
    }
   ],
   "source": [
    "range_cheaker(1,2,7)"
   ]
  },
  {
   "cell_type": "markdown",
   "metadata": {},
   "source": [
    "## OOPS"
   ]
  },
  {
   "cell_type": "code",
   "execution_count": 13,
   "metadata": {},
   "outputs": [
    {
     "name": "stdout",
     "output_type": "stream",
     "text": [
      "My Name is Himanshu and age is 22\n"
     ]
    }
   ],
   "source": [
    "class Person:\n",
    "    def __init__(self,name,age):\n",
    "        self.name=name\n",
    "        self.age=age\n",
    "    def myfunc(self):\n",
    "        print(f\"My Name is {self.name} and age is {self.age}\")\n",
    "p1 = Person('Himanshu',22)\n",
    "p1.myfunc()"
   ]
  },
  {
   "cell_type": "code",
   "execution_count": 14,
   "metadata": {},
   "outputs": [
    {
     "name": "stdout",
     "output_type": "stream",
     "text": [
      "Welcome himsn to your account\n"
     ]
    }
   ],
   "source": [
    "class login:\n",
    "    def __init__(self,name,password,email,phone):\n",
    "        self.name = name\n",
    "        self.password = password\n",
    "        self.email = email\n",
    "        self.phone = phone\n",
    "    def login(self):\n",
    "        print(f\"Welcome {self.name} to your account\")\n",
    "p1 = login(\"himsn\",12335,\"jsabfjug\",\"1234567890\")\n",
    "p1.login()"
   ]
  },
  {
   "cell_type": "code",
   "execution_count": 15,
   "metadata": {},
   "outputs": [
    {
     "name": "stdout",
     "output_type": "stream",
     "text": [
      "Welcome himsn to your account\n"
     ]
    }
   ],
   "source": [
    "choice = int(input(\"Enter your choice (1-3): \"))\n",
    "match choice :\n",
    "    case 1:\n",
    "        p1.login()\n",
    "    case 2:\n",
    "        print(\"You have selected 2\")\n",
    "    case 3:\n",
    "        print(\"You have selected 3\")\n",
    "    case _:\n",
    "        print(\"Invalid choice\")"
   ]
  },
  {
   "cell_type": "markdown",
   "metadata": {},
   "source": [
    "# Inheritance in class"
   ]
  },
  {
   "cell_type": "markdown",
   "metadata": {},
   "source": [
    "Inheritance allows us to difine a class that inherits all class methodes and properties from anathor class \n",
    "###    Parent Class :-\n",
    "                     Parent class is the class is the being inhrited from also called base class\n",
    "###    Child Class  :-\n",
    "                     Child class is the class that inherited fromanother class also called child class"
   ]
  },
  {
   "cell_type": "code",
   "execution_count": 16,
   "metadata": {},
   "outputs": [
    {
     "name": "stdout",
     "output_type": "stream",
     "text": [
      "Animal created\n",
      "Dog created\n",
      "Dog\n",
      "Eating\n"
     ]
    }
   ],
   "source": [
    "class animal:\n",
    "   def __init__(self):\n",
    "      print(\"Animal created\")\n",
    "   def whoAmI(self):\n",
    "      print(\"Animal\")\n",
    "   def eat(self):\n",
    "      print(\"Eating\")\n",
    "class Dog(animal):\n",
    "   def __init__(self):\n",
    "      animal.__init__(self)\n",
    "      print(\"Dog created\")\n",
    "   def whoAmI(self):\n",
    "      print(\"Dog\")\n",
    "   def bark(self):\n",
    "      print(\"Woof Woof\")\n",
    "\n",
    "d = Dog()\n",
    "d.whoAmI()\n",
    "d.eat()\n",
    "\n",
    "              "
   ]
  },
  {
   "cell_type": "markdown",
   "metadata": {},
   "source": [
    "# Polymorphism"
   ]
  },
  {
   "cell_type": "markdown",
   "metadata": {},
   "source": [
    "### Polymorphism in Python refers to the ability of different objects to respond to the same method or function in different ways. The word \"polymorphism\" means \"many forms\", and in programming, it's a core concept of object-oriented programming (OOP)."
   ]
  },
  {
   "cell_type": "markdown",
   "metadata": {},
   "source": [
    "# 🔸 Types of Polymorphism in Python:"
   ]
  },
  {
   "cell_type": "markdown",
   "metadata": {},
   "source": [
    "   ## 1. Duck Typing (Dynamic Typing)"
   ]
  },
  {
   "cell_type": "markdown",
   "metadata": {},
   "source": [
    "### If an object behaves like a duck, Python treats it like a duck — it doesn’t care about the actual type, only whether it has the right methods/attributes."
   ]
  },
  {
   "cell_type": "code",
   "execution_count": null,
   "metadata": {},
   "outputs": [
    {
     "name": "stdout",
     "output_type": "stream",
     "text": [
      "Woof!\n",
      "Meow!\n"
     ]
    }
   ],
   "source": [
    "class Dog:\n",
    "    def speak(self):\n",
    "        print(\"Woof!\")\n",
    "\n",
    "class Cat:\n",
    "    def speak(self):\n",
    "        print(\"Meow!\")\n",
    "\n",
    "def make_animal_speak(animal):\n",
    "    animal.speak()  # No type checking\n",
    "\n",
    "make_animal_speak(Dog())  \n",
    "make_animal_speak(Cat())  "
   ]
  },
  {
   "cell_type": "markdown",
   "metadata": {},
   "source": [
    "## 2. Method Overriding (Runtime Polymorphism)"
   ]
  },
  {
   "cell_type": "markdown",
   "metadata": {},
   "source": [
    "### When a child class overrides a method of the parent class."
   ]
  },
  {
   "cell_type": "code",
   "execution_count": 18,
   "metadata": {},
   "outputs": [
    {
     "name": "stdout",
     "output_type": "stream",
     "text": [
      "Animal speaks\n",
      "Dog barks\n"
     ]
    }
   ],
   "source": [
    "class Animal:\n",
    "    def speak(self):\n",
    "        print(\"Animal speaks\")\n",
    "\n",
    "class Dog(Animal):\n",
    "    def speak(self):\n",
    "        print(\"Dog barks\")\n",
    "\n",
    "a = Animal()\n",
    "d = Dog()\n",
    "\n",
    "a.speak()  \n",
    "d.speak()  \n"
   ]
  },
  {
   "cell_type": "markdown",
   "metadata": {},
   "source": [
    "## 3. Operator Overloading (Compile-time Polymorphism)"
   ]
  },
  {
   "cell_type": "markdown",
   "metadata": {},
   "source": [
    "### Same operator behaves differently depending on the operands."
   ]
  },
  {
   "cell_type": "code",
   "execution_count": 19,
   "metadata": {},
   "outputs": [
    {
     "name": "stdout",
     "output_type": "stream",
     "text": [
      "15\n",
      "Hello World\n"
     ]
    }
   ],
   "source": [
    "print(5 + 10)         \n",
    "print(\"Hello \" + \"World\")  \n"
   ]
  },
  {
   "cell_type": "code",
   "execution_count": null,
   "metadata": {},
   "outputs": [],
   "source": []
  }
 ],
 "metadata": {
  "kernelspec": {
   "display_name": "Python 3",
   "language": "python",
   "name": "python3"
  },
  "language_info": {
   "codemirror_mode": {
    "name": "ipython",
    "version": 3
   },
   "file_extension": ".py",
   "mimetype": "text/x-python",
   "name": "python",
   "nbconvert_exporter": "python",
   "pygments_lexer": "ipython3",
   "version": "3.12.3"
  }
 },
 "nbformat": 4,
 "nbformat_minor": 2
}
