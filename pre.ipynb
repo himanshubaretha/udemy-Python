{
 "cells": [
  {
   "cell_type": "code",
   "execution_count": null,
   "metadata": {},
   "outputs": [],
   "source": [
    "arr=[2,6,9,5,2]\n",
    "for i in arr:\n",
    "    if i == 2:\n",
    "        print(\"its avail\")"
   ]
  },
  {
   "cell_type": "code",
   "execution_count": null,
   "metadata": {},
   "outputs": [],
   "source": [
    "import array as arr\n",
    "a = arr.array('i', [1, 2, 3])\n",
    "for i in a:\n",
    "    if i==6:\n",
    "        print(1)\n",
    "    "
   ]
  },
  {
   "cell_type": "code",
   "execution_count": null,
   "metadata": {},
   "outputs": [],
   "source": [
    "list = [2,5,6,5,5,6,5,6,5]\n",
    "zip(list)"
   ]
  },
  {
   "cell_type": "code",
   "execution_count": null,
   "metadata": {},
   "outputs": [],
   "source": [
    "a = 100\n",
    "q,w=\"Fizz\",\"Buzz\"\n",
    "for i in range(a):\n",
    "    if i%3==0 and i%5==0 :\n",
    "        print(i,q+w)\n",
    "    "
   ]
  },
  {
   "cell_type": "code",
   "execution_count": null,
   "metadata": {},
   "outputs": [],
   "source": [
    "def hello(name):\n",
    "    return f\"Welcome {name}\"\n",
    "hello(\"hii\")"
   ]
  },
  {
   "cell_type": "code",
   "execution_count": null,
   "metadata": {},
   "outputs": [],
   "source": [
    "def myfunc(*n):\n",
    "    i=[]\n",
    "    for j in n:\n",
    "        if (j%2==0):\n",
    "            i.append(j)\n",
    "    return i\n",
    "myfunc(2,3,4,5,6)"
   ]
  },
  {
   "cell_type": "markdown",
   "metadata": {},
   "source": [
    "Define a function called myfunc that takes in a string, and returns a matching string where every even letter is uppercase, and every odd letter is lowercase. Assume that the incoming string only contains letters, and don't worry about numbers, spaces or punctuation. The output string can start with either an uppercase or lowercase letter, so long as letters alternate throughout the string.\n",
    "\n",
    "Remember, don't run the function, simply provide the definition.\n",
    "\n",
    "To give an idea what the function would look like when tested:\n",
    "\n",
    "myfunc('Anthropomorphism')\n",
    "\n",
    "# Output: 'aNtHrOpOmOrPhIsM'\n",
    "Added note: this exercise requires that the function return a string. Print statements will not work here.\n"
   ]
  },
  {
   "cell_type": "code",
   "execution_count": null,
   "metadata": {},
   "outputs": [],
   "source": [
    "import random as rd\n",
    "def my_func(s):\n",
    "    k = []\n",
    "    for i,j in enumerate(s):\n",
    "        if i%2==0:\n",
    "            k.append(j.lower())\n",
    "        else:\n",
    "            k.append(j.upper())\n",
    "    return ''.join(k)\n",
    "my_func('Anthropomorphism')"
   ]
  },
  {
   "cell_type": "code",
   "execution_count": null,
   "metadata": {},
   "outputs": [],
   "source": [
    "def my(a):\n",
    "    s = []\n",
    "    for i,j in enumerate(a):\n",
    "        if i==0 or i ==3 :\n",
    "            s.append(j.upper())\n",
    "        else:\n",
    "            s.append(j.lower())\n",
    "    return ''.join(s)\n",
    "my('macdonal')\n"
   ]
  },
  {
   "cell_type": "code",
   "execution_count": null,
   "metadata": {},
   "outputs": [],
   "source": [
    "# Volume of Sphere\n",
    "def Vol(rad,pie = 3.14):\n",
    "    return (4/3)*pie*rad**3"
   ]
  },
  {
   "cell_type": "code",
   "execution_count": null,
   "metadata": {},
   "outputs": [],
   "source": [
    "Vol(2)"
   ]
  },
  {
   "cell_type": "code",
   "execution_count": null,
   "metadata": {},
   "outputs": [],
   "source": [
    "def range_cheaker(n,low,high):\n",
    "    return high >=n>=low"
   ]
  },
  {
   "cell_type": "code",
   "execution_count": null,
   "metadata": {},
   "outputs": [],
   "source": [
    "range_cheaker(1,2,7)"
   ]
  },
  {
   "cell_type": "markdown",
   "metadata": {},
   "source": [
    "## OOPS"
   ]
  },
  {
   "cell_type": "code",
   "execution_count": null,
   "metadata": {},
   "outputs": [],
   "source": [
    "class Person:\n",
    "    def __init__(self,name,age):\n",
    "        self.name=name\n",
    "        self.age=age\n",
    "    def myfunc(self):\n",
    "        print(f\"My Name is {self.name} and age is {self.age}\")\n",
    "p1 = Person('Himanshu',22)\n",
    "p1.myfunc()"
   ]
  },
  {
   "cell_type": "code",
   "execution_count": 1,
   "metadata": {},
   "outputs": [
    {
     "name": "stdout",
     "output_type": "stream",
     "text": [
      "Welcome himsn to your account\n"
     ]
    }
   ],
   "source": [
    "class login:\n",
    "    def __init__(self,name,password,email,phone):\n",
    "        self.name = name\n",
    "        self.password = password\n",
    "        self.email = email\n",
    "        self.phone = phone\n",
    "    def login(self):\n",
    "        print(f\"Welcome {self.name} to your account\")\n",
    "p1 = login(\"himsn\",12335,\"jsabfjug\",\"1234567890\")\n",
    "p1.login()"
   ]
  },
  {
   "cell_type": "code",
   "execution_count": 2,
   "metadata": {},
   "outputs": [
    {
     "name": "stdout",
     "output_type": "stream",
     "text": [
      "Welcome himsn to your account\n"
     ]
    }
   ],
   "source": [
    "choice = int(input(\"Enter your choice (1-3): \"))\n",
    "match choice :\n",
    "    case 1:\n",
    "        p1.login()\n",
    "    case 2:\n",
    "        print(\"You have selected 2\")\n",
    "    case 3:\n",
    "        print(\"You have selected 3\")\n",
    "    case _:\n",
    "        print(\"Invalid choice\")"
   ]
  },
  {
   "cell_type": "markdown",
   "metadata": {},
   "source": [
    "# Inheritance in class"
   ]
  },
  {
   "cell_type": "markdown",
   "metadata": {},
   "source": [
    "Inheritance allows us to difine a class that inherits all class methodes and properties from anathor class \n",
    "###    Parent Class :-\n",
    "                     Parent class is the class is the being inhrited from also called base class\n",
    "###    Child Class  :-\n",
    "                     Child class is the class that inherited fromanother class also called child class"
   ]
  },
  {
   "cell_type": "code",
   "execution_count": null,
   "metadata": {},
   "outputs": [],
   "source": [
    "class animal:\n",
    "   def __init__(self):\n",
    "      print(\"Animal created\")\n",
    "   def whoAmI(self):\n",
    "      print(\"Animal\")\n",
    "   def eat(self):\n",
    "      print(\"Eating\")\n",
    "class Dog(animal):\n",
    "   def __init__(self):\n",
    "      animal.__init__(self)\n",
    "      print(\"Dog created\")\n",
    "   def whoAmI(self):\n",
    "      print(\"Dog\")\n",
    "   def bark(self):\n",
    "      print(\"Woof Woof\")\n",
    "\n",
    "d = Dog()\n",
    "d.whoAmI()\n",
    "d.eat()\n",
    "\n",
    "              "
   ]
  },
  {
   "cell_type": "markdown",
   "metadata": {},
   "source": [
    "# Polymorphism"
   ]
  },
  {
   "cell_type": "markdown",
   "metadata": {},
   "source": [
    "### Polymorphism in Python refers to the ability of different objects to respond to the same method or function in different ways. The word \"polymorphism\" means \"many forms\", and in programming, it's a core concept of object-oriented programming (OOP)."
   ]
  },
  {
   "cell_type": "markdown",
   "metadata": {},
   "source": [
    "# 🔸 Types of Polymorphism in Python:"
   ]
  },
  {
   "cell_type": "markdown",
   "metadata": {},
   "source": [
    "   ## 1. Duck Typing (Dynamic Typing)"
   ]
  },
  {
   "cell_type": "markdown",
   "metadata": {},
   "source": [
    "### If an object behaves like a duck, Python treats it like a duck — it doesn’t care about the actual type, only whether it has the right methods/attributes."
   ]
  },
  {
   "cell_type": "code",
   "execution_count": null,
   "metadata": {},
   "outputs": [],
   "source": [
    "class Dog:\n",
    "    def speak(self):\n",
    "        print(\"Woof!\")\n",
    "\n",
    "class Cat:\n",
    "    def speak(self):\n",
    "        print(\"Meow!\")\n",
    "\n",
    "def make_animal_speak(animal):\n",
    "    animal.speak()  # No type checking\n",
    "\n",
    "make_animal_speak(Dog())  \n",
    "make_animal_speak(Cat())  "
   ]
  },
  {
   "cell_type": "markdown",
   "metadata": {},
   "source": [
    "## 2. Method Overriding (Runtime Polymorphism)"
   ]
  },
  {
   "cell_type": "markdown",
   "metadata": {},
   "source": [
    "### When a child class overrides a method of the parent class."
   ]
  },
  {
   "cell_type": "code",
   "execution_count": null,
   "metadata": {},
   "outputs": [],
   "source": [
    "class Animal:\n",
    "    def speak(self):\n",
    "        print(\"Animal speaks\")\n",
    "\n",
    "class Dog(Animal):\n",
    "    def speak(self):\n",
    "        print(\"Dog barks\")\n",
    "\n",
    "a = Animal()\n",
    "d = Dog()\n",
    "\n",
    "a.speak()  \n",
    "d.speak()  \n"
   ]
  },
  {
   "cell_type": "markdown",
   "metadata": {},
   "source": [
    "## 3. Operator Overloading (Compile-time Polymorphism)"
   ]
  },
  {
   "cell_type": "markdown",
   "metadata": {},
   "source": [
    "### Same operator behaves differently depending on the operands."
   ]
  },
  {
   "cell_type": "code",
   "execution_count": 3,
   "metadata": {},
   "outputs": [
    {
     "name": "stdout",
     "output_type": "stream",
     "text": [
      "15\n",
      "Hello World\n"
     ]
    }
   ],
   "source": [
    "print(5 + 10)         \n",
    "print(\"Hello \" + \"World\")  \n"
   ]
  },
  {
   "cell_type": "code",
   "execution_count": null,
   "metadata": {},
   "outputs": [],
   "source": [
    "if __name__ == '__main__':\n",
    "    i = input()\n",
    "    if i == i.isalnum():\n",
    "        print(True)\n",
    "    elif i == i.isalpha():\n",
    "        print(True)\n",
    "    elif i == i .isdigit():\n",
    "        print(True)\n",
    "    elif i == i.islower():\n",
    "        print(True)\n",
    "    elif i == i.isupper():\n",
    "        print(True)\n",
    "    else:\n",
    "        print(False)\n"
   ]
  },
  {
   "cell_type": "code",
   "execution_count": null,
   "metadata": {},
   "outputs": [],
   "source": [
    "# ab123\n",
    "i = input()\n",
    "print(i.isalnum())"
   ]
  },
  {
   "cell_type": "code",
   "execution_count": null,
   "metadata": {},
   "outputs": [],
   "source": [
    "if __name__ == '__main__':\n",
    "    S = input()\n",
    "    print(S.isalnum())\n",
    "    print(S.isalpha())\n",
    "    print(S.isdigit())\n",
    "    print(S.islower())\n",
    "    print(S.isupper())"
   ]
  },
  {
   "cell_type": "code",
   "execution_count": null,
   "metadata": {},
   "outputs": [],
   "source": [
    "if __name__ == '__main__':\n",
    "    s = input()\n",
    "    for i in s:\n",
    "        if i == i.isalnum():\n",
    "            print(True)\n",
    "        elif i == i.isalpha():\n",
    "            print(True)\n",
    "        elif i == i .isdigit():\n",
    "            print(True)\n",
    "        elif i == i.islower():\n",
    "            print(True)\n",
    "        elif i == i.isupper():\n",
    "            print(True)\n",
    "        else:\n",
    "            print(False)"
   ]
  },
  {
   "cell_type": "markdown",
   "metadata": {},
   "source": [
    "# 📝 Problem Statement\n",
    "String Validation\n",
    "Python has built-in string methods for basic data validation. These methods can check whether a string is made up of:\n",
    "\n",
    "Alphanumeric characters\n",
    "\n",
    "Alphabetical characters\n",
    "\n",
    "Digits\n",
    "\n",
    "Lowercase letters\n",
    "\n",
    "Uppercase letters\n",
    "\n",
    "String Methods:\n",
    "str.isalnum() → Returns True if all characters are alphanumeric (a-z, A-Z, 0–9).\n",
    "\n",
    "str.isalpha() → Returns True if all characters are alphabetic (a-z, A-Z).\n",
    "\n",
    "str.isdigit() → Returns True if all characters are digits (0–9).\n",
    "\n",
    "str.islower() → Returns True if all characters are lowercase (a-z).\n",
    "\n",
    "str.isupper() → Returns True if all characters are uppercase (A-Z).\n",
    "\n",
    "Task\n",
    "Given a string s, you need to print whether it contains:\n",
    "\n",
    "Any alphanumeric characters\n",
    "\n",
    "Any alphabetical characters\n",
    "\n",
    "Any digits\n",
    "\n",
    "Any lowercase characters\n",
    "\n",
    "Any uppercase characters\n",
    "\n",
    "Input Format\n",
    "A single line containing the string s.\n",
    "\n",
    "Output Format\n",
    "Print True or False for each of the five checks in the following order:\n",
    "\n",
    "Has any alphanumeric characters?\n",
    "\n",
    "Has any alphabetical characters?\n",
    "\n",
    "Has any digits?\n",
    "\n",
    "Has any lowercase characters?\n",
    "\n",
    "Has any uppercase characters?\n",
    "\n",
    "Each result should be printed on a new line."
   ]
  },
  {
   "cell_type": "code",
   "execution_count": null,
   "metadata": {},
   "outputs": [],
   "source": [
    "if __name__ == '__main__':\n",
    "    s = input()\n",
    "\n",
    "has_alnum = False\n",
    "has_alpha = False\n",
    "has_digit = False\n",
    "has_lower = False\n",
    "has_upper = False\n",
    "\n",
    "for char in s:\n",
    "    if char.isalnum():\n",
    "        has_alnum = True\n",
    "    if char.isalpha():\n",
    "        has_alpha = True\n",
    "    if char.isdigit():\n",
    "        has_digit = True\n",
    "    if char.islower():\n",
    "        has_lower = True\n",
    "    if char.isupper():\n",
    "        has_upper = True\n",
    "\n",
    "print(has_alnum)\n",
    "print(has_alpha)\n",
    "print(has_digit)\n",
    "print(has_lower)\n",
    "print(has_upper)"
   ]
  },
  {
   "cell_type": "code",
   "execution_count": null,
   "metadata": {},
   "outputs": [],
   "source": [
    "n = int(input())\n",
    "nst = 1\n",
    "nsp = n-1\n",
    "# second half\n",
    "nsp1 = n//2\n",
    "nst1 = n\n",
    "\n",
    "for i in range(n):\n",
    "    for k in range(nsp):\n",
    "        print(\" \",end=\"\")\n",
    "    for j in range(nst):\n",
    "        print(\"*\",end=\"\")\n",
    "    print()\n",
    "    nst += 2\n",
    "    nsp -= 1\n"
   ]
  },
  {
   "cell_type": "markdown",
   "metadata": {},
   "source": [
    "## Its In Pending Pattern\n",
    "    H\n",
    "   HHH\n",
    "  HHHHH\n",
    " HHHHHHH\n",
    "HHHHHHHHH\n",
    "  HHHHH               HHHHH\n",
    "  HHHHH               HHHHH\n",
    "  HHHHH               HHHHH\n",
    "  HHHHH               HHHHH\n",
    "  HHHHH               HHHHH\n",
    "  HHHHH               HHHHH\n",
    "  HHHHHHHHHHHHHHHHHHHHHHHHH\n",
    "  HHHHHHHHHHHHHHHHHHHHHHHHH\n",
    "  HHHHHHHHHHHHHHHHHHHHHHHHH\n",
    "  HHHHH               HHHHH\n",
    "  HHHHH               HHHHH\n",
    "  HHHHH               HHHHH\n",
    "  HHHHH               HHHHH\n",
    "  HHHHH               HHHHH\n",
    "  HHHHH               HHHHH\n",
    "                    HHHHHHHHH\n",
    "                     HHHHHHH\n",
    "                      HHHHH\n",
    "                       HHH\n",
    "                        H"
   ]
  },
  {
   "cell_type": "code",
   "execution_count": null,
   "metadata": {},
   "outputs": [],
   "source": [
    "import textwrap\n",
    "def wrap(string, max_width):\n",
    "    for i in string:\n",
    "        for j in max_width:\n",
    "            \n",
    "    return\n",
    "\n",
    "if __name__ == '__main__':\n",
    "    string, max_width = input(), int(input())\n",
    "    result = wrap(string, max_width)\n",
    "    print(result)"
   ]
  },
  {
   "cell_type": "code",
   "execution_count": null,
   "metadata": {},
   "outputs": [],
   "source": [
    "a = \"abcdefghijklmnopqrstuvwxyz\"\n",
    "b=0\n",
    "c = 4\n",
    "l = c\n",
    "u = len(a)//c+1\n",
    "for i in range(u):\n",
    "    print(a[b:c])\n",
    "    b=c\n",
    "    c+=l\n"
   ]
  },
  {
   "cell_type": "code",
   "execution_count": null,
   "metadata": {},
   "outputs": [],
   "source": [
    "import textwrap\n",
    "def wrap(a, c):\n",
    "    b=0\n",
    "    l = c\n",
    "    j = []\n",
    "    u = len(a)//c+1\n",
    "    for i in range(u):\n",
    "        j.append(a[b:c])\n",
    "        b=c\n",
    "        c+=l\n",
    "    return '\\n'.join(j)\n",
    "\n",
    "if __name__ == '__main__':\n",
    "    string, max_width = input(), int(input())\n",
    "    result = wrap(string, max_width)\n",
    "    print(result)"
   ]
  },
  {
   "cell_type": "markdown",
   "metadata": {},
   "source": [
    "------------.|.------------\n",
    "---------.|..|..|.---------\n",
    "------.|..|..|..|..|.------\n",
    "---.|..|..|..|..|..|..|.---\n",
    "----------WELCOME----------\n",
    "---.|..|..|..|..|..|..|.---\n",
    "------.|..|..|..|..|.------\n",
    "---------.|..|..|.---------\n",
    "------------.|.------------\n"
   ]
  },
  {
   "cell_type": "code",
   "execution_count": null,
   "metadata": {},
   "outputs": [],
   "source": [
    "n = int(input())\n",
    "m = int(input())\n",
    "k = n//2\n",
    "nst = 1\n",
    "nsp = n//2\n",
    "q = nst\n",
    "nsp2 = n//2-1\n",
    "for i in range(n):\n",
    "    if i == n//2:\n",
    "        for w in range(q):\n",
    "            for e in range(nsp2):\n",
    "                print(\"---\",end=\"\")\n",
    "            for l in range(q):\n",
    "                print(\"-WELCOME-\",end=\"\")\n",
    "            for e in range(nsp2):\n",
    "                print(\"---\",end=\"\")\n",
    "    else:\n",
    "        for j in range(nsp):\n",
    "            print(\"---\",end=\"\")\n",
    "        for l in range(nst):\n",
    "             print(\".|.\",end=\"\")\n",
    "        for j in range(nsp):\n",
    "            print(\"---\",end=\"\")\n",
    "    print()\n",
    "    if i < n//2:\n",
    "        nsp -= 1\n",
    "        nst += 2\n",
    "    else:\n",
    "        nsp += 1\n",
    "        nst -= 2"
   ]
  },
  {
   "cell_type": "code",
   "execution_count": 9,
   "metadata": {},
   "outputs": [
    {
     "ename": "ValueError",
     "evalue": "not enough values to unpack (expected 2, got 1)",
     "output_type": "error",
     "traceback": [
      "\u001b[1;31m---------------------------------------------------------------------------\u001b[0m",
      "\u001b[1;31mValueError\u001b[0m                                Traceback (most recent call last)",
      "Cell \u001b[1;32mIn[9], line 1\u001b[0m\n\u001b[1;32m----> 1\u001b[0m n, m \u001b[38;5;241m=\u001b[39m \u001b[38;5;28mmap\u001b[39m(\u001b[38;5;28mint\u001b[39m, \u001b[38;5;28minput\u001b[39m()\u001b[38;5;241m.\u001b[39msplit())\n\u001b[0;32m      3\u001b[0m \u001b[38;5;28;01mfor\u001b[39;00m i \u001b[38;5;129;01min\u001b[39;00m \u001b[38;5;28mrange\u001b[39m(\u001b[38;5;241m1\u001b[39m, n, \u001b[38;5;241m2\u001b[39m):\n\u001b[0;32m      4\u001b[0m     \u001b[38;5;28mprint\u001b[39m((\u001b[38;5;124m'\u001b[39m\u001b[38;5;124m.|.\u001b[39m\u001b[38;5;124m'\u001b[39m \u001b[38;5;241m*\u001b[39m i)\u001b[38;5;241m.\u001b[39mcenter(m, \u001b[38;5;124m'\u001b[39m\u001b[38;5;124m-\u001b[39m\u001b[38;5;124m'\u001b[39m))\n",
      "\u001b[1;31mValueError\u001b[0m: not enough values to unpack (expected 2, got 1)"
     ]
    }
   ],
   "source": [
    "n, m = map(int, input().split())\n",
    "\n",
    "for i in range(1, n, 2):\n",
    "    print(('.|.' * i).center(m, '-'))\n",
    "print('WELCOME'.center(m, '-'))\n",
    "for i in range(n-2, 0, -2):\n",
    "    print(('.|.' * i).center(m, '-'))"
   ]
  },
  {
   "cell_type": "markdown",
   "metadata": {},
   "source": [
    "# How solve coversetion type quetions\n",
    "🔹 1. Number Systems Overview\n",
    "Number System\tBase\tDigits Used\tExample\n",
    "Decimal\t10\t0–9\t25\n",
    "Binary\t2\t0, 1\t11001\n",
    "Octal\t8\t0–7\t31\n",
    "Hexadecimal\t16\t0–9 + A–F (or a–f)\t19 or 0x19\n",
    "\n",
    "🔹 2. Why Use Other Number Systems?\n",
    "Binary is used in computers internally (on/off, 1/0).\n",
    "\n",
    "Octal and hexadecimal are shorter ways to write long binary numbers.\n",
    "\n",
    "Programmers often use hex to represent memory addresses, color codes, etc.\n",
    "\n",
    "🔹 3. Python Conversion Functions\n",
    "Function\tConverts to\tExample (input = 25)\tOutput\n",
    "bin()\tBinary\tbin(25)\t'0b11001'\n",
    "oct()\tOctal\toct(25)\t'0o31'\n",
    "hex()\tHexadecimal\thex(25)\t'0x19'\n",
    "\n",
    "The prefixes:\n",
    "\n",
    "0b → binary\n",
    "\n",
    "0o → octal\n",
    "\n",
    "0x → hexadecimal\n",
    "\n",
    "These are strings that indicate the base.\n",
    "\n",
    "🔹 4. Full Example with Explanation\n",
    "python\n",
    "Copy\n",
    "Edit\n",
    "print(\"Bot: Enter a decimal number:\")\n",
    "num = int(input(\"You: \"))  # Converts input string to integer\n",
    "\n",
    "binary = bin(num)          # Converts to binary\n",
    "octal = oct(num)           # Converts to octal\n",
    "hexa = hex(num)            # Converts to hexadecimal\n",
    "\n",
    "print(f\"Bot: Binary     = {binary}\")\n",
    "print(f\"Bot: Octal      = {octal}\")\n",
    "print(f\"Bot: Hexadecimal = {hexa}\")\n",
    "🧠 How it Works:\n",
    "Suppose user inputs 25:\n",
    "\n",
    "bin(25) → 0b11001 → binary of 25\n",
    "\n",
    "oct(25) → 0o31 → 3×8 + 1 = 24 + 1 = 25\n",
    "\n",
    "hex(25) → 0x19 → 1×16 + 9 = 16 + 9 = 25\n",
    "\n",
    "🔄 5. Convert Back to Decimal\n",
    "You can also convert from binary, octal, or hex back to decimal using int() with a base:\n",
    "\n",
    "python\n",
    "Copy\n",
    "Edit\n",
    "print(int(\"11001\", 2))   # Binary to decimal → 25\n",
    "print(int(\"31\", 8))      # Octal to decimal  → 25\n",
    "print(int(\"19\", 16))     # Hex to decimal    → 25\n",
    "The second argument in int() tells Python the base of the input string.\n",
    "\n",
    "✅ BONUS: Strip Prefix (0b, 0o, 0x)\n",
    "If you don't want the prefix:\n",
    "\n",
    "python\n",
    "Copy\n",
    "Edit\n",
    "print(bin(25)[2:])  # '11001'\n",
    "print(oct(25)[2:])  # '31'\n",
    "print(hex(25)[2:])  # '19'\n",
    "This uses string slicing to remove the first two characters."
   ]
  },
  {
   "cell_type": "code",
   "execution_count": 3,
   "metadata": {},
   "outputs": [
    {
     "name": "stdout",
     "output_type": "stream",
     "text": [
      "    1     1     1     1\n",
      "    2     2     2    10\n",
      "    3     3     3    11\n",
      "    4     4     4   100\n",
      "    5     5     5   101\n",
      "    6     6     6   110\n",
      "    7     7     7   111\n",
      "    8    10     8  1000\n",
      "    9    11     9  1001\n",
      "   10    12     A  1010\n",
      "   11    13     B  1011\n",
      "   12    14     C  1100\n",
      "   13    15     D  1101\n",
      "   14    16     E  1110\n",
      "   15    17     F  1111\n",
      "   16    20    10 10000\n",
      "   17    21    11 10001\n"
     ]
    }
   ],
   "source": [
    "def print_formatted(number):\n",
    "    # your code goes here\n",
    "    space = len(format(number, \"b\"))\n",
    "    for i in range(1, number+1):\n",
    "        binary = format(i, \"b\")\n",
    "        hexadecimal = format(i, \"X\")\n",
    "        octal = format(i, \"o\")\n",
    "        decimal = str(i)\n",
    "        print(decimal.rjust(space, \" \"), octal.rjust(space, \" \"), hexadecimal.rjust(space, \" \"), binary.rjust(space, \" \"))\n",
    "if __name__ == '__main__':\n",
    "    n = int(input())\n",
    "    print_formatted(n)"
   ]
  },
  {
   "cell_type": "code",
   "execution_count": 8,
   "metadata": {},
   "outputs": [
    {
     "data": {
      "text/plain": [
       "'21'"
      ]
     },
     "execution_count": 8,
     "metadata": {},
     "output_type": "execute_result"
    }
   ],
   "source": [
    "a =17\n",
    "format(a, \"o\")"
   ]
  },
  {
   "cell_type": "code",
   "execution_count": 23,
   "metadata": {},
   "outputs": [
    {
     "name": "stdout",
     "output_type": "stream",
     "text": [
      "1   1   1   1\n",
      "2   2   2   10\n",
      "3   3   3   11\n",
      "4   4   4   100\n",
      "5   5   5   101\n",
      "6   6   6   110\n",
      "7   7   7   111\n",
      "8   10   8   1000\n",
      "9   11   9   1001\n",
      "10   12   A   1010\n",
      "11   13   B   1011\n",
      "12   14   C   1100\n",
      "13   15   D   1101\n",
      "14   16   E   1110\n",
      "15   17   F   1111\n",
      "16   20   10   10000\n",
      "17   21   11   10001\n"
     ]
    }
   ],
   "source": [
    "n = int(input())\n",
    "for i in range(1, n+1):\n",
    "    decimal = format(i)\n",
    "    octal = format(i, \"o\")\n",
    "    hexadecimal = format(i, \"X\")\n",
    "    binary = format(i, \"b\")\n",
    "    print(decimal,\" \", octal,\" \", hexadecimal,\" \", binary)\n",
    "    "
   ]
  },
  {
   "cell_type": "code",
   "execution_count": null,
   "metadata": {},
   "outputs": [
    {
     "name": "stdout",
     "output_type": "stream",
     "text": [
      "1 \t 1 \t 1 \t 1\n",
      "2 \t 2 \t 2 \t 10\n"
     ]
    }
   ],
   "source": [
    "def print_formatted(number):\n",
    "    # your code goes here\n",
    "    n = number\n",
    "    for i in range(1, n+1):\n",
    "        decimal = format(i)\n",
    "        octal = format(i, \"o\")\n",
    "        hexadecimal = format(i, \"X\")\n",
    "        binary = format(i, \"b\")\n",
    "        print(decimal, octal,\"\\t\", hexadecimal,\"\\t\", binary)    \n",
    "\n",
    "if __name__ == '__main__':\n",
    "    n = int(input())\n",
    "    print_formatted(n)"
   ]
  },
  {
   "cell_type": "markdown",
   "metadata": {},
   "source": [
    "# 🔹 str.rjust(width) in Python\n",
    "    rjust() is a string method used to right-align a string by padding it with spaces on the left so it reaches a specific width."
   ]
  },
  {
   "cell_type": "markdown",
   "metadata": {},
   "source": [
    "## PAtterns\n"
   ]
  },
  {
   "cell_type": "code",
   "execution_count": 3,
   "metadata": {},
   "outputs": [
    {
     "name": "stdout",
     "output_type": "stream",
     "text": [
      "0\n",
      "1\n",
      "1\n",
      "2\n",
      "3\n",
      "5\n",
      "8\n",
      "13\n",
      "21\n"
     ]
    }
   ],
   "source": [
    "a=0\n",
    "b=1\n",
    "for i in range(1, 10):\n",
    "    print(a)\n",
    "    c = a + b\n",
    "    a = b\n",
    "    b = c"
   ]
  },
  {
   "cell_type": "code",
   "execution_count": null,
   "metadata": {},
   "outputs": [
    {
     "name": "stdout",
     "output_type": "stream",
     "text": [
      "five\n"
     ]
    }
   ],
   "source": [
    "a = input(\"Enter Your first Number:-\")\n",
    "b = input(\"Enter Your second Number:-\")\n",
    "power = \"**\"\n",
    "\n",
    "match (n):\n",
    "    case 1:\n",
    "        print(\"one\")\n",
    "    case 2:\n",
    "        print(\"two\")\n",
    "    case 3:\n",
    "        print(\"three\")\n",
    "    case 4:\n",
    "        print(\"four\")\n",
    "    case 5:\n",
    "        print(\"five\")\n",
    "    case _:\n",
    "        print(\"Invalid number\")"
   ]
  },
  {
   "cell_type": "code",
   "execution_count": 5,
   "metadata": {},
   "outputs": [
    {
     "name": "stdout",
     "output_type": "stream",
     "text": [
      "Car Name: BMW\n",
      "Car Brand: BMW\n",
      "Car Model: X5\n",
      "Car Year: 2023\n",
      "Car Color: Black\n",
      "Car Price: 1000000\n",
      "Car Milage: 20\n",
      "Car Engine: V8\n",
      "Car Fuel: Petrol\n",
      "Car ABS: Yes\n",
      "Car Brake: Disc\n",
      "Car Name: Audi\n",
      "Car Brand: Audi\n",
      "Car Model: A6\n",
      "Car Year: 2023\n",
      "Car Color: White\n",
      "Car Price: 800000\n",
      "Car Milage: 18\n",
      "Car Engine: V6\n",
      "Car Fuel: Diesel\n",
      "Car ABS: Yes\n",
      "Car Brake: Disc\n",
      "Car Name: Mercedes\n",
      "Car Brand: Mercedes\n",
      "Car Model: Benz\n",
      "Car Year: 2023\n",
      "Car Color: Red\n",
      "Car Price: 1200000\n",
      "Car Milage: 15\n",
      "Car Engine: V8\n",
      "Car Fuel: Petrol\n",
      "Car ABS: Yes\n",
      "Car Brake: Disc\n",
      "Car Name: Toyota\n",
      "Car Brand: Toyota\n",
      "Car Model: Fortuner\n",
      "Car Year: 2023\n",
      "Car Color: Blue\n",
      "Car Price: 600000\n",
      "Car Milage: 12\n",
      "Car Engine: V6\n",
      "Car Fuel: Diesel\n",
      "Car ABS: Yes\n",
      "Car Brake: Disc\n",
      "Car Name: Honda\n",
      "Car Brand: Honda\n",
      "Car Model: Civic\n",
      "Car Year: 2023\n",
      "Car Color: Green\n",
      "Car Price: 500000\n",
      "Car Milage: 10\n",
      "Car Engine: V4\n",
      "Car Fuel: Petrol\n",
      "Car ABS: Yes\n",
      "Car Brake: Disc\n",
      "Car Name: Hyundai\n",
      "Car Brand: Hyundai\n",
      "Car Model: Creta\n",
      "Car Year: 2023\n",
      "Car Color: Yellow\n",
      "Car Price: 400000\n",
      "Car Milage: 8\n",
      "Car Engine: V4\n",
      "Car Fuel: Diesel\n",
      "Car ABS: Yes\n",
      "Car Brake: Disc\n"
     ]
    }
   ],
   "source": [
    "class Cars:\n",
    "    def __init__(hello,name,brand,model,year,color,price,milage,engine,fuel,abs,brake,):\n",
    "        hello.name = name\n",
    "        hello.brand = brand\n",
    "        hello.model = model\n",
    "        hello.year = year\n",
    "        hello.color = color\n",
    "        hello.price = price\n",
    "        hello.milage = milage\n",
    "        hello.engine = engine\n",
    "        hello.fuel = fuel\n",
    "        hello.abs = abs\n",
    "        hello.brake = brake\n",
    "        \n",
    "    def car_details(hello):\n",
    "        print(f\"Car Name: {hello.name}\")\n",
    "        print(f\"Car Brand: {hello.brand}\")\n",
    "        print(f\"Car Model: {hello.model}\")\n",
    "        print(f\"Car Year: {hello.year}\")\n",
    "        print(f\"Car Color: {hello.color}\")\n",
    "        print(f\"Car Price: {hello.price}\")\n",
    "        print(f\"Car Milage: {hello.milage}\")\n",
    "        print(f\"Car Engine: {hello.engine}\")\n",
    "        print(f\"Car Fuel: {hello.fuel}\")\n",
    "        print(f\"Car ABS: {hello.abs}\")\n",
    "        print(f\"Car Brake: {hello.brake}\")\n",
    "    \n",
    "    \n",
    "    def car_price(hello):\n",
    "        print(f\"Car Price: {hello.price}\")\n",
    "    def car_milage(hello):\n",
    "        print(f\"Car Milage: {hello.milage}\")\n",
    "    def car_engine(hello):\n",
    "        print(f\"Car Engine: {hello.engine}\")\n",
    "    def car_fuel(hello):\n",
    "        print(f\"Car Fuel: {hello.fuel}\")\n",
    "    def car_abs(hello):\n",
    "        print(f\"Car ABS: {hello.abs}\")\n",
    "    def car_brake(hello):\n",
    "        print(f\"Car Brake: {hello.brake}\")\n",
    "    def car_color(hello):\n",
    "        print(f\"Car Color: {hello.color}\")\n",
    "    def car_brand(hello):\n",
    "        print(f\"Car Brand: {hello.brand}\")\n",
    "\n",
    "    def car_model(hello):\n",
    "        print(f\"Car Model: {hello.model}\")\n",
    "    def car_year(hello):\n",
    "        print(f\"Car Year: {hello.year}\")\n",
    "    def car_name(hello):\n",
    "        print(f\"Car Name: {hello.name}\")\n",
    "\n",
    "car1 = Cars(\"BMW\",\"BMW\",\"X5\",2023,\"Black\",1000000,20,\"V8\",\"Petrol\",\"Yes\",\"Disc\")\n",
    "car2 = Cars(\"Audi\",\"Audi\",\"A6\",2023,\"White\",800000,18,\"V6\",\"Diesel\",\"Yes\",\"Disc\")\n",
    "car3 = Cars(\"Mercedes\",\"Mercedes\",\"Benz\",2023,\"Red\",1200000,15,\"V8\",\"Petrol\",\"Yes\",\"Disc\")\n",
    "car4 = Cars(\"Toyota\",\"Toyota\",\"Fortuner\",2023,\"Blue\",600000,12,\"V6\",\"Diesel\",\"Yes\",\"Disc\")\n",
    "car5 = Cars(\"Honda\",\"Honda\",\"Civic\",2023,\"Green\",500000,10,\"V4\",\"Petrol\",\"Yes\",\"Disc\")\n",
    "car6 = Cars(\"Hyundai\",\"Hyundai\",\"Creta\",2023,\"Yellow\",400000,8,\"V4\",\"Diesel\",\"Yes\",\"Disc\")\n",
    "car1.car_details()\n",
    "car2.car_details()\n",
    "car3.car_details()\n",
    "car4.car_details()\n",
    "car5.car_details()\n",
    "car6.car_details()"
   ]
  },
  {
   "cell_type": "code",
   "execution_count": null,
   "metadata": {},
   "outputs": [],
   "source": []
  }
 ],
 "metadata": {
  "kernelspec": {
   "display_name": "Python 3",
   "language": "python",
   "name": "python3"
  },
  "language_info": {
   "codemirror_mode": {
    "name": "ipython",
    "version": 3
   },
   "file_extension": ".py",
   "mimetype": "text/x-python",
   "name": "python",
   "nbconvert_exporter": "python",
   "pygments_lexer": "ipython3",
   "version": "3.12.3"
  }
 },
 "nbformat": 4,
 "nbformat_minor": 2
}
